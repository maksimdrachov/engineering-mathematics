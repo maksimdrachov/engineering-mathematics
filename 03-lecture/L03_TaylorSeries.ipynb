{
 "cells": [
  {
   "cell_type": "markdown",
   "metadata": {},
   "source": [
    "### Illustration of the Taylor expansion of sin(x)"
   ]
  },
  {
   "cell_type": "code",
   "execution_count": null,
   "metadata": {},
   "outputs": [],
   "source": [
    "import numpy as np\n",
    "from matplotlib import pyplot as plt\n",
    "from scipy.integrate import solve_ivp\n",
    "from scipy.special import factorial"
   ]
  },
  {
   "cell_type": "code",
   "execution_count": null,
   "metadata": {},
   "outputs": [],
   "source": [
    "x = np.linspace(-10, 10, 2000)\n",
    "y = np.sin(x)\n",
    "plt.plot(x, y, 'k', linewidth=2)\n",
    "plt.xlim(-10, 10)\n",
    "plt.ylim(-10, 10)\n",
    "plt.grid(True)\n",
    "\n",
    "# First-order Taylor expansion\n",
    "P = [1, 0]  # x + 0\n",
    "yT1 = np.polyval(P, x)\n",
    "plt.plot(x, yT1, 'b--', linewidth=1.2)\n",
    "\n",
    "# Third-order Taylor expansion\n",
    "P = [-1 / factorial(3), 0, 1, 0]  # -(1/3!)x^3 + x + 0;\n",
    "yT3 = np.polyval(P, x)\n",
    "plt.plot(x, yT3, 'r--', linewidth=1.2)\n",
    "\n",
    "# Fifth-order Taylor expansion\n",
    "P = [1 / factorial(5), 0, -1 / factorial(3), 0, 1, 0]  # (1/5!)x^5 -(1/3!)x^3 + x + 0;\n",
    "yT5 = np.polyval(P, x);\n",
    "plt.plot(x, yT5, 'g--', linewidth=1.2)\n",
    "\n",
    "# Seventh-order Taylor expansion\n",
    "P = [-1 / factorial(7), 0, 1 / factorial(5),\n",
    "     0, -1 / factorial(3), 0, 1, 0]\n",
    "yT7 = np.polyval(P, x);\n",
    "plt.plot(x, yT7, 'm--', linewidth=1.2)\n",
    "\n",
    "# Ninth-order Taylor expansion\n",
    "P = [1 / factorial(9), 0, -1 / factorial(7),\n",
    "     0, 1 / factorial(5), 0, -1 / factorial(3), 0, 1, 0]\n",
    "yT9 = np.polyval(P, x);\n",
    "plt.plot(x, yT9, 'c--', linewidth=1.2)\n",
    "plt.legend(['sin(x)', '1st order', '3rd order', '5th order', '7th order', '9th order'])\n",
    "plt.show()"
   ]
  },
  {
   "cell_type": "code",
   "execution_count": null,
   "metadata": {},
   "outputs": [],
   "source": []
  }
 ],
 "metadata": {
  "kernelspec": {
   "display_name": "Python 3",
   "language": "python",
   "name": "python3"
  },
  "language_info": {
   "codemirror_mode": {
    "name": "ipython",
    "version": 3
   },
   "file_extension": ".py",
   "mimetype": "text/x-python",
   "name": "python",
   "nbconvert_exporter": "python",
   "pygments_lexer": "ipython3",
   "version": "3.12.3"
  }
 },
 "nbformat": 4,
 "nbformat_minor": 2
}
